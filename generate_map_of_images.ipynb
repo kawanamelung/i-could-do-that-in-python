{
 "cells": [
  {
   "cell_type": "code",
   "execution_count": 9,
   "metadata": {},
   "outputs": [],
   "source": [
    "# https://www.google.com/search?q=image+metadata+to+map+python&source=lmns&tbm=vid&bih=720&biw=1440&hl=en&sa=X&ved=2ahUKEwjCwp-IjJP_AhXagv0HHR1HASEQ_AUoAnoECAEQAg#fpstate=ive&vld=cid:d1c2d8d6,vid:BpE9mk1FeJ4\n",
    "# https://python-visualization.github.io/folium/quickstart.html\n",
    "\n",
    "import os\n",
    "from pathlib import Path\n",
    "import PIL.Image\n",
    "import PIL.ExifTags\n",
    "from glob import glob\n",
    "import folium\n",
    "dirPath = r'u_thought'\n",
    "image_paths = [Path(i) for i in glob(f'{dirPath}\\*.JPEG')]\n"
   ]
  },
  {
   "cell_type": "code",
   "execution_count": 11,
   "metadata": {},
   "outputs": [],
   "source": [
    "def get_tags(path):\n",
    "    with PIL.Image.open(path) as i:\n",
    "        tags = {PIL.ExifTags.TAGS[k]:v\n",
    "            for k,v in i._getexif().items()\n",
    "            if k in PIL.ExifTags.TAGS\n",
    "        }\n",
    "    return tags\n",
    "\n",
    "def tag_to_lat_long(tags):\n",
    "    north = tags['GPSInfo'][2]\n",
    "    east = tags['GPSInfo'][4]\n",
    "    lat = ((((north[0] * 60) + north[1]) * 60) + north[2]) / 60 /60\n",
    "    long = ((((east[0] * 60) + east[1]) * 60) + east[2]) / 60 /60\n",
    "    return [float(lat), float(long)]"
   ]
  },
  {
   "cell_type": "code",
   "execution_count": 12,
   "metadata": {},
   "outputs": [],
   "source": [
    "map = folium.Map(zoom_start=13)\n",
    "\n",
    "for image in image_paths:\n",
    "    tags = get_tags(image)\n",
    "    point = tag_to_lat_long(tags)\n",
    "    folium.Marker(point,\n",
    "                  popup=image.stem).add_to(map)\n",
    "\n",
    "map.save('trip.html')    "
   ]
  }
 ],
 "metadata": {
  "kernelspec": {
   "display_name": "base",
   "language": "python",
   "name": "python3"
  },
  "language_info": {
   "codemirror_mode": {
    "name": "ipython",
    "version": 3
   },
   "file_extension": ".py",
   "mimetype": "text/x-python",
   "name": "python",
   "nbconvert_exporter": "python",
   "pygments_lexer": "ipython3",
   "version": "3.7.9"
  },
  "orig_nbformat": 4
 },
 "nbformat": 4,
 "nbformat_minor": 2
}
